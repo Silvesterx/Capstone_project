{
 "cells": [
  {
   "cell_type": "markdown",
   "metadata": {},
   "source": [
    "<h1>How to buy best buy apartment in Zagreb</h1>"
   ]
  },
  {
   "cell_type": "markdown",
   "metadata": {},
   "source": [
    "<h2>1. Introduction/Business Problem</h2>"
   ]
  },
  {
   "cell_type": "markdown",
   "metadata": {},
   "source": [
    "**1.Introduction**\n",
    "\n",
    "It is very hard to locate a apartment which will satisfy budget and also social life. For young families its very important so select a districts which will provide high quality infrastructure in form of schools, kinder gartens, public transport. In the same time they don't want to reduce quality of life by reducing access to venues like restaurants, pubs, museums, or other cultural venues.\n",
    "\n",
    "**1.1 Problem**\n",
    "\n",
    "In order to save time and money it is required to analyse huge amounts of data and even then eventual decision is due to lack of available information. Properties tend to get more and more expensive which maks decisio to pick a district even harder and more time consuming. Also sellers because they set their price too high might also wait too much to finish sale.\n",
    "\n",
    "**1.2 Interest**\n",
    "\n",
    "Understanding features which influence the price can help people who are searching for a property to focus on districts which is  within their budget, in the same time sellers who have their price too high can in this analysis find a reason why this might happen."
   ]
  },
  {
   "cell_type": "markdown",
   "metadata": {},
   "source": [
    "<h2>2. DATA COLLECTION</h2>"
   ]
  },
  {
   "cell_type": "markdown",
   "metadata": {},
   "source": [
    "**2.1 Data sources**\n",
    "\n",
    "In order to get relevant data for this analysis i had to create geodata.json of city of Zgareb to be able to create cloropleth maps. Some general data about each city district i have scraped from wikipedia, and some data on properties value i have scraped from njuskalo.hr (probably the biggest portal for advertising in Croatia). I will also use data from fousquare.com to analyse number of venues per districts to check if it contributes to the price."
   ]
  },
  {
   "cell_type": "markdown",
   "metadata": {},
   "source": [
    "**2.2 Data cleaning**\n",
    "\n",
    "As i don't use hige datasets to analyse correlation between few parameters, only dataset related to price of the properties had be cleaned. Some vlaues were not present in the datasets and some values were extreme, therefore i have excluded those to have more relevant results."
   ]
  },
  {
   "cell_type": "markdown",
   "metadata": {},
   "source": [
    "**2.3 Feature selection**\n",
    "\n",
    "For this analysis i have decided to use district population, density(inhabitants/sqm),average asset price and number od venues per district"
   ]
  },
  {
   "cell_type": "code",
   "execution_count": null,
   "metadata": {},
   "outputs": [],
   "source": []
  }
 ],
 "metadata": {
  "kernelspec": {
   "display_name": "Python 3",
   "language": "python",
   "name": "python3"
  },
  "language_info": {
   "codemirror_mode": {
    "name": "ipython",
    "version": 3
   },
   "file_extension": ".py",
   "mimetype": "text/x-python",
   "name": "python",
   "nbconvert_exporter": "python",
   "pygments_lexer": "ipython3",
   "version": "3.6.4"
  }
 },
 "nbformat": 4,
 "nbformat_minor": 2
}
